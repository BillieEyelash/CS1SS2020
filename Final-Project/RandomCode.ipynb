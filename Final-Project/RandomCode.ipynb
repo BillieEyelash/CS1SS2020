{
 "cells": [
  {
   "cell_type": "code",
   "execution_count": null,
   "metadata": {},
   "outputs": [],
   "source": [
    "# ----------------------------------------------------------------------------------------------------------------------- #\n",
    "#                                      OTHER CODE THAT MAY OR MAY NOT BE USEFUL                                           #\n",
    "# ----------------------------------------------------------------------------------------------------------------------- #\n",
    "\n",
    "#grouped = songWeek.groupby(['SongID', 'WeekID']).mean()\n",
    "# grouped.tail(300)\n",
    "#for song in grouped['WeekID']:\n",
    "#    print(song)\n",
    "BadGuy = songWeek[songWeek[\"SongID\"]==\"Bad GuyBillie Eilish\"]\n",
    "#for week in BadGuy['WeekID']:\n",
    "#    print(week)\n",
    "#for song in songWeek['SongID']:\n",
    "#    print(song)"
   ]
  }
 ],
 "metadata": {
  "kernelspec": {
   "display_name": "Python 3",
   "language": "python",
   "name": "python3"
  },
  "language_info": {
   "codemirror_mode": {
    "name": "ipython",
    "version": 3
   },
   "file_extension": ".py",
   "mimetype": "text/x-python",
   "name": "python",
   "nbconvert_exporter": "python",
   "pygments_lexer": "ipython3",
   "version": "3.7.6"
  }
 },
 "nbformat": 4,
 "nbformat_minor": 4
}
