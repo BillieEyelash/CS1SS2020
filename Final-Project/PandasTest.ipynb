{
 "cells": [
  {
   "cell_type": "code",
   "execution_count": 1,
   "metadata": {},
   "outputs": [
    {
     "name": "stdout",
     "output_type": "stream",
     "text": [
      "Hello, world!\n",
      "Hello, world!\n"
     ]
    }
   ],
   "source": [
    "# importing pandas and numpy\n",
    "import pandas as pd\n",
    "import numpy as np\n",
    "import BillieEyelash as be\n",
    "\n",
    "# test\n",
    "print(\"Hello, world!\")\n",
    "be.hello()"
   ]
  },
  {
   "cell_type": "code",
   "execution_count": 2,
   "metadata": {},
   "outputs": [
    {
     "data": {
      "text/plain": [
       "a    1.423645\n",
       "b    1.818769\n",
       "c   -0.892359\n",
       "d   -2.130410\n",
       "e   -0.890745\n",
       "dtype: float64"
      ]
     },
     "execution_count": 2,
     "metadata": {},
     "output_type": "execute_result"
    }
   ],
   "source": [
    "# create a random series of numbers with indexes ['a', 'b', 'c', 'd', 'e']\n",
    "pd.Series(np.random.randn(5), index=['a', 'b', 'c', 'd', 'e'])\n",
    "# will autoprint bc no other instructions"
   ]
  },
  {
   "cell_type": "code",
   "execution_count": 3,
   "metadata": {},
   "outputs": [
    {
     "name": "stdout",
     "output_type": "stream",
     "text": [
      "0    0.667207\n",
      "1    0.314840\n",
      "2   -0.367033\n",
      "3   -1.413128\n",
      "4   -0.463895\n",
      "dtype: float64\n"
     ]
    }
   ],
   "source": [
    "# create random series and print it\n",
    "s = pd.Series(np.random.randn(5))\n",
    "print(s)"
   ]
  },
  {
   "cell_type": "code",
   "execution_count": 4,
   "metadata": {},
   "outputs": [
    {
     "name": "stdout",
     "output_type": "stream",
     "text": [
      "0.6672069930220377\n",
      "\n",
      "\n",
      "0    0.667207\n",
      "1    0.314840\n",
      "2   -0.367033\n",
      "dtype: float64\n"
     ]
    }
   ],
   "source": [
    "# print first item in series\n",
    "print (s[0])\n",
    "print(\"\\n\")\n",
    "# print 1st 3 items\n",
    "print (s[:3])"
   ]
  },
  {
   "cell_type": "code",
   "execution_count": 5,
   "metadata": {},
   "outputs": [
    {
     "data": {
      "text/html": [
       "<div>\n",
       "<style scoped>\n",
       "    .dataframe tbody tr th:only-of-type {\n",
       "        vertical-align: middle;\n",
       "    }\n",
       "\n",
       "    .dataframe tbody tr th {\n",
       "        vertical-align: top;\n",
       "    }\n",
       "\n",
       "    .dataframe thead th {\n",
       "        text-align: right;\n",
       "    }\n",
       "</style>\n",
       "<table border=\"1\" class=\"dataframe\">\n",
       "  <thead>\n",
       "    <tr style=\"text-align: right;\">\n",
       "      <th></th>\n",
       "      <th>Column 1</th>\n",
       "    </tr>\n",
       "  </thead>\n",
       "  <tbody>\n",
       "    <tr>\n",
       "      <th>0</th>\n",
       "      <td>0.667207</td>\n",
       "    </tr>\n",
       "    <tr>\n",
       "      <th>1</th>\n",
       "      <td>0.314840</td>\n",
       "    </tr>\n",
       "    <tr>\n",
       "      <th>2</th>\n",
       "      <td>-0.367033</td>\n",
       "    </tr>\n",
       "    <tr>\n",
       "      <th>3</th>\n",
       "      <td>-1.413128</td>\n",
       "    </tr>\n",
       "    <tr>\n",
       "      <th>4</th>\n",
       "      <td>-0.463895</td>\n",
       "    </tr>\n",
       "  </tbody>\n",
       "</table>\n",
       "</div>"
      ],
      "text/plain": [
       "   Column 1\n",
       "0  0.667207\n",
       "1  0.314840\n",
       "2 -0.367033\n",
       "3 -1.413128\n",
       "4 -0.463895"
      ]
     },
     "execution_count": 5,
     "metadata": {},
     "output_type": "execute_result"
    }
   ],
   "source": [
    "# create data frame\n",
    "# takes series s and create column named 'Column 1'\n",
    "df = pd.DataFrame(s, columns = ['Column 1'])\n",
    "# print df\n",
    "df"
   ]
  },
  {
   "cell_type": "code",
   "execution_count": 6,
   "metadata": {},
   "outputs": [
    {
     "data": {
      "text/plain": [
       "0    0.667207\n",
       "1    0.314840\n",
       "2   -0.367033\n",
       "3   -1.413128\n",
       "4   -0.463895\n",
       "Name: Column 1, dtype: float64"
      ]
     },
     "execution_count": 6,
     "metadata": {},
     "output_type": "execute_result"
    }
   ],
   "source": [
    "# prints column 1\n",
    "df['Column 1']"
   ]
  },
  {
   "cell_type": "code",
   "execution_count": 7,
   "metadata": {},
   "outputs": [
    {
     "data": {
      "text/html": [
       "<div>\n",
       "<style scoped>\n",
       "    .dataframe tbody tr th:only-of-type {\n",
       "        vertical-align: middle;\n",
       "    }\n",
       "\n",
       "    .dataframe tbody tr th {\n",
       "        vertical-align: top;\n",
       "    }\n",
       "\n",
       "    .dataframe thead th {\n",
       "        text-align: right;\n",
       "    }\n",
       "</style>\n",
       "<table border=\"1\" class=\"dataframe\">\n",
       "  <thead>\n",
       "    <tr style=\"text-align: right;\">\n",
       "      <th></th>\n",
       "      <th>Column 1</th>\n",
       "      <th>Column 2</th>\n",
       "    </tr>\n",
       "  </thead>\n",
       "  <tbody>\n",
       "    <tr>\n",
       "      <th>0</th>\n",
       "      <td>0.667207</td>\n",
       "      <td>2.668828</td>\n",
       "    </tr>\n",
       "    <tr>\n",
       "      <th>1</th>\n",
       "      <td>0.314840</td>\n",
       "      <td>1.259360</td>\n",
       "    </tr>\n",
       "    <tr>\n",
       "      <th>2</th>\n",
       "      <td>-0.367033</td>\n",
       "      <td>-1.468133</td>\n",
       "    </tr>\n",
       "    <tr>\n",
       "      <th>3</th>\n",
       "      <td>-1.413128</td>\n",
       "      <td>-5.652513</td>\n",
       "    </tr>\n",
       "    <tr>\n",
       "      <th>4</th>\n",
       "      <td>-0.463895</td>\n",
       "      <td>-1.855582</td>\n",
       "    </tr>\n",
       "  </tbody>\n",
       "</table>\n",
       "</div>"
      ],
      "text/plain": [
       "   Column 1  Column 2\n",
       "0  0.667207  2.668828\n",
       "1  0.314840  1.259360\n",
       "2 -0.367033 -1.468133\n",
       "3 -1.413128 -5.652513\n",
       "4 -0.463895 -1.855582"
      ]
     },
     "execution_count": 7,
     "metadata": {},
     "output_type": "execute_result"
    }
   ],
   "source": [
    "# create 2nd column that is 4x the first one\n",
    "df['Column 2'] = df['Column 1'] * 4\n",
    "df"
   ]
  },
  {
   "cell_type": "code",
   "execution_count": 8,
   "metadata": {},
   "outputs": [
    {
     "data": {
      "text/html": [
       "<div>\n",
       "<style scoped>\n",
       "    .dataframe tbody tr th:only-of-type {\n",
       "        vertical-align: middle;\n",
       "    }\n",
       "\n",
       "    .dataframe tbody tr th {\n",
       "        vertical-align: top;\n",
       "    }\n",
       "\n",
       "    .dataframe thead th {\n",
       "        text-align: right;\n",
       "    }\n",
       "</style>\n",
       "<table border=\"1\" class=\"dataframe\">\n",
       "  <thead>\n",
       "    <tr style=\"text-align: right;\">\n",
       "      <th></th>\n",
       "      <th>Column 1</th>\n",
       "      <th>Column 2</th>\n",
       "    </tr>\n",
       "  </thead>\n",
       "  <tbody>\n",
       "    <tr>\n",
       "      <th>3</th>\n",
       "      <td>-1.413128</td>\n",
       "      <td>-5.652513</td>\n",
       "    </tr>\n",
       "    <tr>\n",
       "      <th>4</th>\n",
       "      <td>-0.463895</td>\n",
       "      <td>-1.855582</td>\n",
       "    </tr>\n",
       "    <tr>\n",
       "      <th>2</th>\n",
       "      <td>-0.367033</td>\n",
       "      <td>-1.468133</td>\n",
       "    </tr>\n",
       "    <tr>\n",
       "      <th>1</th>\n",
       "      <td>0.314840</td>\n",
       "      <td>1.259360</td>\n",
       "    </tr>\n",
       "    <tr>\n",
       "      <th>0</th>\n",
       "      <td>0.667207</td>\n",
       "      <td>2.668828</td>\n",
       "    </tr>\n",
       "  </tbody>\n",
       "</table>\n",
       "</div>"
      ],
      "text/plain": [
       "   Column 1  Column 2\n",
       "3 -1.413128 -5.652513\n",
       "4 -0.463895 -1.855582\n",
       "2 -0.367033 -1.468133\n",
       "1  0.314840  1.259360\n",
       "0  0.667207  2.668828"
      ]
     },
     "execution_count": 8,
     "metadata": {},
     "output_type": "execute_result"
    }
   ],
   "source": [
    "# sorts df by the values in column 2\n",
    "# preserves indexes\n",
    "df.sort_values(by = 'Column 2')"
   ]
  },
  {
   "cell_type": "code",
   "execution_count": 9,
   "metadata": {},
   "outputs": [
    {
     "data": {
      "text/html": [
       "<div>\n",
       "<style scoped>\n",
       "    .dataframe tbody tr th:only-of-type {\n",
       "        vertical-align: middle;\n",
       "    }\n",
       "\n",
       "    .dataframe tbody tr th {\n",
       "        vertical-align: top;\n",
       "    }\n",
       "\n",
       "    .dataframe thead th {\n",
       "        text-align: right;\n",
       "    }\n",
       "</style>\n",
       "<table border=\"1\" class=\"dataframe\">\n",
       "  <thead>\n",
       "    <tr style=\"text-align: right;\">\n",
       "      <th></th>\n",
       "      <th>Column 1</th>\n",
       "      <th>Column 2</th>\n",
       "    </tr>\n",
       "  </thead>\n",
       "  <tbody>\n",
       "    <tr>\n",
       "      <th>1</th>\n",
       "      <td>0.314840</td>\n",
       "      <td>1.259360</td>\n",
       "    </tr>\n",
       "    <tr>\n",
       "      <th>2</th>\n",
       "      <td>-0.367033</td>\n",
       "      <td>-1.468133</td>\n",
       "    </tr>\n",
       "    <tr>\n",
       "      <th>3</th>\n",
       "      <td>-1.413128</td>\n",
       "      <td>-5.652513</td>\n",
       "    </tr>\n",
       "    <tr>\n",
       "      <th>4</th>\n",
       "      <td>-0.463895</td>\n",
       "      <td>-1.855582</td>\n",
       "    </tr>\n",
       "  </tbody>\n",
       "</table>\n",
       "</div>"
      ],
      "text/plain": [
       "   Column 1  Column 2\n",
       "1  0.314840  1.259360\n",
       "2 -0.367033 -1.468133\n",
       "3 -1.413128 -5.652513\n",
       "4 -0.463895 -1.855582"
      ]
     },
     "execution_count": 9,
     "metadata": {},
     "output_type": "execute_result"
    }
   ],
   "source": [
    "# boolean indexing\n",
    "# only prints lines that fulfill the requirement\n",
    "df[df['Column 2'] <= 2]"
   ]
  },
  {
   "cell_type": "code",
   "execution_count": 10,
   "metadata": {},
   "outputs": [
    {
     "data": {
      "text/plain": [
       "Column 1   -0.252402\n",
       "Column 2   -1.009608\n",
       "dtype: float64"
      ]
     },
     "execution_count": 10,
     "metadata": {},
     "output_type": "execute_result"
    }
   ],
   "source": [
    "# not totally sure how this works\n",
    "# finds the average of the min and max for each column?\n",
    "df.apply(lambda x: min(x) + max(x))\n",
    "np.mean(df)"
   ]
  },
  {
   "cell_type": "code",
   "execution_count": 11,
   "metadata": {},
   "outputs": [
    {
     "name": "stdout",
     "output_type": "stream",
     "text": [
      "       Column 1  Column 2\n",
      "count  5.000000  5.000000\n",
      "mean  -0.252402 -1.009608\n",
      "std    0.801966  3.207865\n",
      "min   -1.413128 -5.652513\n",
      "25%   -0.463895 -1.855582\n",
      "50%   -0.367033 -1.468133\n",
      "75%    0.314840  1.259360\n",
      "max    0.667207  2.668828\n"
     ]
    }
   ],
   "source": [
    "# describe basically gives you: count/mean/std/min/25%/50%/75%/max \n",
    "table = df.describe()\n",
    "print(table)"
   ]
  },
  {
   "cell_type": "code",
   "execution_count": 12,
   "metadata": {},
   "outputs": [],
   "source": [
    "# import matplotlib\n",
    "import matplotlib.pyplot as plt\n",
    "# Put the graphs inline (seems to already be the case)\n",
    "# %matplotlib inline\n",
    "# choses the style\n",
    "plt.style.use('ggplot')"
   ]
  },
  {
   "cell_type": "code",
   "execution_count": 13,
   "metadata": {},
   "outputs": [],
   "source": [
    "# reads a csv file\n",
    "df = pd.read_csv(r\"GlobalTemperatures.csv\")"
   ]
  },
  {
   "cell_type": "code",
   "execution_count": 14,
   "metadata": {},
   "outputs": [
    {
     "name": "stdout",
     "output_type": "stream",
     "text": [
      "           dt  LandAverageTemperature  LandAverageTemperatureUncertainty  \\\n",
      "0  1750-01-01                   3.034                              3.574   \n",
      "1  1750-02-01                   3.083                              3.702   \n",
      "\n",
      "   LandMaxTemperature  LandMaxTemperatureUncertainty  LandMinTemperature  \\\n",
      "0                 NaN                            NaN                 NaN   \n",
      "1                 NaN                            NaN                 NaN   \n",
      "\n",
      "   LandMinTemperatureUncertainty  LandAndOceanAverageTemperature  \\\n",
      "0                            NaN                             NaN   \n",
      "1                            NaN                             NaN   \n",
      "\n",
      "   LandAndOceanAverageTemperatureUncertainty  \n",
      "0                                        NaN  \n",
      "1                                        NaN  \n",
      "             dt  LandAverageTemperature  LandAverageTemperatureUncertainty  \\\n",
      "3190  11/1/2015                   7.433                              0.119   \n",
      "3191  12/1/2015                   5.518                              0.100   \n",
      "\n",
      "      LandMaxTemperature  LandMaxTemperatureUncertainty  LandMinTemperature  \\\n",
      "3190              12.892                          0.093               2.157   \n",
      "3191              10.725                          0.154               0.287   \n",
      "\n",
      "      LandMinTemperatureUncertainty  LandAndOceanAverageTemperature  \\\n",
      "3190                          0.106                          15.252   \n",
      "3191                          0.099                          14.774   \n",
      "\n",
      "      LandAndOceanAverageTemperatureUncertainty  \n",
      "3190                                      0.063  \n",
      "3191                                      0.062  \n"
     ]
    }
   ],
   "source": [
    "# print first 2 lines\n",
    "print(df.head(2))\n",
    "# print last 2 lines\n",
    "print(df.tail(2))\n",
    "# if the number of lines is not specified, it autosets to 5"
   ]
  },
  {
   "cell_type": "code",
   "execution_count": 15,
   "metadata": {},
   "outputs": [
    {
     "name": "stdout",
     "output_type": "stream",
     "text": [
      "           dt  LandAverageTemperature\n",
      "0  1750-01-01                   3.034\n"
     ]
    }
   ],
   "source": [
    "df = df.iloc[:,:2]\n",
    "print(df.head(1))"
   ]
  },
  {
   "cell_type": "code",
   "execution_count": 16,
   "metadata": {},
   "outputs": [
    {
     "data": {
      "image/png": "[encoded data removed]",
      "text/plain": [
       "<Figure size 1080x720 with 1 Axes>"
      ]
     },
     "metadata": {},
     "output_type": "display_data"
    }
   ],
   "source": [
    "# Cursory plot using data for average land temp (don't run bc no data here)\n",
    "plt.figure(figsize = (15, 10))\n",
    "# make scatter plot with all data\n",
    "# x is index and y is temp\n",
    "plt.scatter(x = df['LandAverageTemperature'].index, y \n",
    "    = df['LandAverageTemperature'])\n",
    "# set title for graph\n",
    "plt.title(\"Average Land Temperature 1750-2015\")\n",
    "# label x axis\n",
    "plt.xlabel(\"Year\")\n",
    "# label y axis\n",
    "plt.ylabel(\"Average Land Temperature\")\n",
    "# show graph\n",
    "plt.show()"
   ]
  },
  {
   "cell_type": "code",
   "execution_count": 17,
   "metadata": {},
   "outputs": [
    {
     "name": "stdout",
     "output_type": "stream",
     "text": [
      "<class 'str'>\n",
      "<class 'pandas._libs.tslibs.timestamps.Timestamp'>\n",
      "           dt  LandAverageTemperature\n",
      "0  1750-01-01                   3.034\n",
      "1  1750-02-01                   3.083\n",
      "2  1750-03-01                   5.626\n",
      "3  1750-04-01                   8.490\n",
      "4  1750-05-01                  11.573\n",
      "      dt  LandAverageTemperature\n",
      "dt                              \n",
      "1750  12                      11\n",
      "1751  12                       7\n",
      "1752  12                       6\n",
      "1753  12                      12\n",
      "1754  12                      12\n",
      "1755  12                      12\n",
      "1756  12                      12\n",
      "1757  12                      12\n",
      "1758  12                      12\n",
      "1759  12                      12\n",
      "1760  12                      12\n",
      "1761  12                      12\n",
      "1762  12                      12\n",
      "1763  12                      12\n",
      "1764  12                      12\n",
      "1765  12                      12\n",
      "1766  12                      12\n",
      "1767  12                      12\n",
      "1768  12                      12\n",
      "1769  12                      12\n"
     ]
    }
   ],
   "source": [
    "# you can use pandas to convert to datetime object\n",
    "times = pd.DatetimeIndex(df['dt'])\n",
    "print(type(df['dt'][0]))\n",
    "print(type(times[0]))\n",
    "\n",
    "# now you can use this to group by year and take the mean of the year\n",
    "print(df.head())\n",
    "grouped = df.groupby([times.year]).count()\n",
    "print(grouped.head(20))"
   ]
  },
  {
   "cell_type": "code",
   "execution_count": 18,
   "metadata": {},
   "outputs": [
    {
     "data": {
      "image/png": "[encoded data removed]",
      "text/plain": [
       "<Figure size 1080x360 with 1 Axes>"
      ]
     },
     "metadata": {},
     "output_type": "display_data"
    }
   ],
   "source": [
    "# now use this to plot the data\n",
    "# Plot\n",
    "plt.figure(figsize = (15, 5))\n",
    "plt.plot(grouped['LandAverageTemperature'])\n",
    "# Change features of the graph\n",
    "plt.title(\"Yearly Average Land Temperature 1750-2015\")\n",
    "plt.xlabel(\"Year\")\n",
    "plt.ylabel(\"Yearly Average Land Temperature\")\n",
    "plt.show()"
   ]
  },
  {
   "cell_type": "code",
   "execution_count": 19,
   "metadata": {},
   "outputs": [
    {
     "data": {
      "text/html": [
       "<div>\n",
       "<style scoped>\n",
       "    .dataframe tbody tr th:only-of-type {\n",
       "        vertical-align: middle;\n",
       "    }\n",
       "\n",
       "    .dataframe tbody tr th {\n",
       "        vertical-align: top;\n",
       "    }\n",
       "\n",
       "    .dataframe thead th {\n",
       "        text-align: right;\n",
       "    }\n",
       "</style>\n",
       "<table border=\"1\" class=\"dataframe\">\n",
       "  <thead>\n",
       "    <tr style=\"text-align: right;\">\n",
       "      <th></th>\n",
       "      <th>dt</th>\n",
       "      <th>LandAverageTemperature</th>\n",
       "    </tr>\n",
       "  </thead>\n",
       "  <tbody>\n",
       "    <tr>\n",
       "      <th>24</th>\n",
       "      <td>1752-01-01</td>\n",
       "      <td>0.348</td>\n",
       "    </tr>\n",
       "    <tr>\n",
       "      <th>25</th>\n",
       "      <td>1752-02-01</td>\n",
       "      <td>NaN</td>\n",
       "    </tr>\n",
       "    <tr>\n",
       "      <th>26</th>\n",
       "      <td>1752-03-01</td>\n",
       "      <td>5.806</td>\n",
       "    </tr>\n",
       "    <tr>\n",
       "      <th>27</th>\n",
       "      <td>1752-04-01</td>\n",
       "      <td>8.265</td>\n",
       "    </tr>\n",
       "    <tr>\n",
       "      <th>28</th>\n",
       "      <td>1752-05-01</td>\n",
       "      <td>NaN</td>\n",
       "    </tr>\n",
       "    <tr>\n",
       "      <th>29</th>\n",
       "      <td>1752-06-01</td>\n",
       "      <td>NaN</td>\n",
       "    </tr>\n",
       "    <tr>\n",
       "      <th>30</th>\n",
       "      <td>1752-07-01</td>\n",
       "      <td>NaN</td>\n",
       "    </tr>\n",
       "    <tr>\n",
       "      <th>31</th>\n",
       "      <td>1752-08-01</td>\n",
       "      <td>NaN</td>\n",
       "    </tr>\n",
       "    <tr>\n",
       "      <th>32</th>\n",
       "      <td>1752-09-01</td>\n",
       "      <td>NaN</td>\n",
       "    </tr>\n",
       "    <tr>\n",
       "      <th>33</th>\n",
       "      <td>1752-10-01</td>\n",
       "      <td>7.839</td>\n",
       "    </tr>\n",
       "    <tr>\n",
       "      <th>34</th>\n",
       "      <td>1752-11-01</td>\n",
       "      <td>7.335</td>\n",
       "    </tr>\n",
       "    <tr>\n",
       "      <th>35</th>\n",
       "      <td>1752-12-01</td>\n",
       "      <td>5.086</td>\n",
       "    </tr>\n",
       "  </tbody>\n",
       "</table>\n",
       "</div>"
      ],
      "text/plain": [
       "            dt  LandAverageTemperature\n",
       "24  1752-01-01                   0.348\n",
       "25  1752-02-01                     NaN\n",
       "26  1752-03-01                   5.806\n",
       "27  1752-04-01                   8.265\n",
       "28  1752-05-01                     NaN\n",
       "29  1752-06-01                     NaN\n",
       "30  1752-07-01                     NaN\n",
       "31  1752-08-01                     NaN\n",
       "32  1752-09-01                     NaN\n",
       "33  1752-10-01                   7.839\n",
       "34  1752-11-01                   7.335\n",
       "35  1752-12-01                   5.086"
      ]
     },
     "execution_count": 19,
     "metadata": {},
     "output_type": "execute_result"
    }
   ],
   "source": [
    "# there are some anomalies in the graph -- \n",
    "# they are caused by gaps in data and lack of information\n",
    "grouped.head()\n",
    "df[times.year == 1752]\n",
    "# there are a lot of null values"
   ]
  },
  {
   "cell_type": "code",
   "execution_count": 20,
   "metadata": {},
   "outputs": [
    {
     "data": {
      "image/png": "[encoded data removed]",
      "text/plain": [
       "<Figure size 1080x360 with 1 Axes>"
      ]
     },
     "metadata": {},
     "output_type": "display_data"
    }
   ],
   "source": [
    "# a way to full in NaN values\n",
    "plt.figure(figsize = (15, 5))\n",
    "plt.plot(grouped['LandAverageTemperature'])\n",
    "plt.show()"
   ]
  },
  {
   "cell_type": "code",
   "execution_count": 21,
   "metadata": {},
   "outputs": [
    {
     "data": {
      "text/html": [
       "<div>\n",
       "<style scoped>\n",
       "    .dataframe tbody tr th:only-of-type {\n",
       "        vertical-align: middle;\n",
       "    }\n",
       "\n",
       "    .dataframe tbody tr th {\n",
       "        vertical-align: top;\n",
       "    }\n",
       "\n",
       "    .dataframe thead th {\n",
       "        text-align: right;\n",
       "    }\n",
       "</style>\n",
       "<table border=\"1\" class=\"dataframe\">\n",
       "  <thead>\n",
       "    <tr style=\"text-align: right;\">\n",
       "      <th></th>\n",
       "      <th>class</th>\n",
       "      <th>order</th>\n",
       "      <th>max_speed</th>\n",
       "    </tr>\n",
       "  </thead>\n",
       "  <tbody>\n",
       "    <tr>\n",
       "      <th>falcon</th>\n",
       "      <td>bird</td>\n",
       "      <td>Falconiformes</td>\n",
       "      <td>389.0</td>\n",
       "    </tr>\n",
       "    <tr>\n",
       "      <th>parrot</th>\n",
       "      <td>bird</td>\n",
       "      <td>Psittaciformes</td>\n",
       "      <td>24.0</td>\n",
       "    </tr>\n",
       "    <tr>\n",
       "      <th>lion</th>\n",
       "      <td>mammal</td>\n",
       "      <td>Carnivora</td>\n",
       "      <td>80.2</td>\n",
       "    </tr>\n",
       "    <tr>\n",
       "      <th>monkey</th>\n",
       "      <td>mammal</td>\n",
       "      <td>Primates</td>\n",
       "      <td>NaN</td>\n",
       "    </tr>\n",
       "    <tr>\n",
       "      <th>leopard</th>\n",
       "      <td>mammal</td>\n",
       "      <td>Carnivora</td>\n",
       "      <td>58.0</td>\n",
       "    </tr>\n",
       "  </tbody>\n",
       "</table>\n",
       "</div>"
      ],
      "text/plain": [
       "          class           order  max_speed\n",
       "falcon     bird   Falconiformes      389.0\n",
       "parrot     bird  Psittaciformes       24.0\n",
       "lion     mammal       Carnivora       80.2\n",
       "monkey   mammal        Primates        NaN\n",
       "leopard  mammal       Carnivora       58.0"
      ]
     },
     "execution_count": 21,
     "metadata": {},
     "output_type": "execute_result"
    }
   ],
   "source": [
    "df = pd.DataFrame([('bird', 'Falconiformes', 389.0),\n",
    "   ...:                    ('bird', 'Psittaciformes', 24.0),\n",
    "   ...:                    ('mammal', 'Carnivora', 80.2),\n",
    "   ...:                    ('mammal', 'Primates', np.nan),\n",
    "   ...:                    ('mammal', 'Carnivora', 58)],\n",
    "   ...:                   index=['falcon', 'parrot', 'lion', 'monkey', 'leopard'],\n",
    "   ...:                   columns=('class', 'order', 'max_speed'))\n",
    "\n",
    "df"
   ]
  },
  {
   "cell_type": "code",
   "execution_count": 22,
   "metadata": {},
   "outputs": [
    {
     "name": "stdout",
     "output_type": "stream",
     "text": [
      "<pandas.core.groupby.generic.DataFrameGroupBy object at 0x0AF28A30>\n"
     ]
    }
   ],
   "source": [
    "print(df.groupby('class'))\n"
   ]
  },
  {
   "cell_type": "code",
   "execution_count": 23,
   "metadata": {},
   "outputs": [
    {
     "data": {
      "text/plain": [
       "<pandas.core.groupby.generic.DataFrameGroupBy object at 0x08EE18F0>"
      ]
     },
     "execution_count": 23,
     "metadata": {},
     "output_type": "execute_result"
    }
   ],
   "source": [
    "grouped = df.groupby('order', axis='columns')\n",
    "\n",
    "grouped"
   ]
  },
  {
   "cell_type": "code",
   "execution_count": 24,
   "metadata": {},
   "outputs": [
    {
     "data": {
      "text/plain": [
       "<pandas.core.groupby.generic.DataFrameGroupBy object at 0x09894210>"
      ]
     },
     "execution_count": 24,
     "metadata": {},
     "output_type": "execute_result"
    }
   ],
   "source": [
    "grouped = df.groupby(['class', 'order'])\n",
    "\n",
    "grouped"
   ]
  }
 ],
 "metadata": {
  "kernelspec": {
   "display_name": "Python 3",
   "language": "python",
   "name": "python3"
  },
  "language_info": {
   "codemirror_mode": {
    "name": "ipython",
    "version": 3
   },
   "file_extension": ".py",
   "mimetype": "text/x-python",
   "name": "python",
   "nbconvert_exporter": "python",
   "pygments_lexer": "ipython3",
   "version": "3.7.6"
  }
 },
 "nbformat": 4,
 "nbformat_minor": 4
}
