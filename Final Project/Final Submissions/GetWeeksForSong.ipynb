{
 "cells": [
  {
   "cell_type": "code",
   "execution_count": 1,
   "metadata": {},
   "outputs": [],
   "source": [
    "import pandas as pd\n",
    "df = pd.read_csv(r'Hot Stuff.csv')"
   ]
  },
  {
   "cell_type": "code",
   "execution_count": 2,
   "metadata": {},
   "outputs": [],
   "source": [
    "songID = df['SongID']\n",
    "dataDescribe = df.describe()"
   ]
  },
  {
   "cell_type": "code",
   "execution_count": 5,
   "metadata": {},
   "outputs": [
    {
     "name": "stdout",
     "output_type": "stream",
     "text": [
      "Enter a song. Bad Guy\n",
      "Enter the artist(s). Billie Eilish\n",
      "Bad GuyBillie Eilish 38 weeks.\n"
     ]
    }
   ],
   "source": [
    "try:\n",
    "    song = input('Enter a song. ')\n",
    "    artist = input('Enter the artist(s). ')\n",
    "    songCount = songID.groupby(songID).get_group(song + artist).value_counts()\n",
    "    songCount = str(songCount).split()\n",
    "    for i in range(4):\n",
    "        songCount.pop()\n",
    "    songCount = ' '.join(songCount)\n",
    "    print(songCount, 'weeks.')\n",
    "except:\n",
    "    print('Song not found.')"
   ]
  }
 ],
 "metadata": {
  "kernelspec": {
   "display_name": "Python 3",
   "language": "python",
   "name": "python3"
  },
  "language_info": {
   "codemirror_mode": {
    "name": "ipython",
    "version": 3
   },
   "file_extension": ".py",
   "mimetype": "text/x-python",
   "name": "python",
   "nbconvert_exporter": "python",
   "pygments_lexer": "ipython3",
   "version": "3.7.6"
  }
 },
 "nbformat": 4,
 "nbformat_minor": 4
}
