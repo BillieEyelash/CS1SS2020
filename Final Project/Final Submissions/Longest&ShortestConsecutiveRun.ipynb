{
 "cells": [
  {
   "cell_type": "code",
   "execution_count": 1,
   "metadata": {},
   "outputs": [],
   "source": [
    "# ---------------------------------------------------------------------------------------------------------------------- #\n",
    "#                     THIS PROGRAM WILL GIVE YOU THE TOP 5 LONGEST AND SHORTEST CONSECUTIVE RUNS                         #\n",
    "# ---------------------------------------------------------------------------------------------------------------------- #"
   ]
  },
  {
   "cell_type": "code",
   "execution_count": 2,
   "metadata": {},
   "outputs": [],
   "source": [
    "import pandas as pd\n",
    "import numpy as np\n",
    "\n",
    "df = pd.read_csv(r'Hot Stuff.csv')"
   ]
  },
  {
   "cell_type": "code",
   "execution_count": 3,
   "metadata": {},
   "outputs": [],
   "source": [
    "# converting the weekIDs to datetime objects\n",
    "df['WeekID'] = pd.to_datetime(df['WeekID'])\n",
    "df = df[['SongID', 'WeekID', 'Song', 'Performer']]"
   ]
  },
  {
   "cell_type": "code",
   "execution_count": 4,
   "metadata": {},
   "outputs": [],
   "source": [
    "# sorting by week and then resetting the indexes\n",
    "df = df.sort_values(by = 'WeekID')\n",
    "df.reset_index(drop=True, inplace=True)"
   ]
  },
  {
   "cell_type": "code",
   "execution_count": 5,
   "metadata": {},
   "outputs": [],
   "source": [
    "# make a list of all the songs with no repeats\n",
    "uniqueSongs = np.sort(df.SongID.unique())"
   ]
  },
  {
   "cell_type": "code",
   "execution_count": 6,
   "metadata": {},
   "outputs": [],
   "source": [
    "# create a dictionary where the keys are songIDs and the values are lists of the consecutive runs\n",
    "songCount = {}\n",
    "for song in np.nditer(uniqueSongs, flags=['refs_ok']):\n",
    "    songDates = df.loc[df['SongID'] == song]\n",
    "    songDates.reset_index(drop=True, inplace=True)\n",
    "    song = str(song)\n",
    "\n",
    "    songCount[song] = []\n",
    "    previousWeek = songDates.loc[(0, 'WeekID')] - pd.DateOffset(days=14)\n",
    "    for index, row in songDates.iterrows():\n",
    "        if previousWeek + pd.DateOffset(days=7) == row['WeekID']:\n",
    "            songCount[song][-1] += 1\n",
    "        else:\n",
    "            songCount[song].append(1)\n",
    "        previousWeek = row['WeekID']"
   ]
  },
  {
   "cell_type": "code",
   "execution_count": 7,
   "metadata": {},
   "outputs": [],
   "source": [
    "# finding the max value for each song in the dictionary\n",
    "for key, value in songCount.items():\n",
    "    songCount[key] = [max(value)]"
   ]
  },
  {
   "cell_type": "code",
   "execution_count": 8,
   "metadata": {},
   "outputs": [],
   "source": [
    "# making a dataframe from the dictionary\n",
    "runs = pd.DataFrame.from_dict(songCount, orient='index')\n",
    "runs.sort_values(by=0, ascending=False, inplace=True)"
   ]
  },
  {
   "cell_type": "code",
   "execution_count": 9,
   "metadata": {},
   "outputs": [
    {
     "name": "stdout",
     "output_type": "stream",
     "text": [
      "These are the top 5 longest consecutive runs.\n"
     ]
    },
    {
     "data": {
      "text/html": [
       "<div>\n",
       "<style scoped>\n",
       "    .dataframe tbody tr th:only-of-type {\n",
       "        vertical-align: middle;\n",
       "    }\n",
       "\n",
       "    .dataframe tbody tr th {\n",
       "        vertical-align: top;\n",
       "    }\n",
       "\n",
       "    .dataframe thead th {\n",
       "        text-align: right;\n",
       "    }\n",
       "</style>\n",
       "<table border=\"1\" class=\"dataframe\">\n",
       "  <thead>\n",
       "    <tr style=\"text-align: right;\">\n",
       "      <th></th>\n",
       "      <th>0</th>\n",
       "    </tr>\n",
       "  </thead>\n",
       "  <tbody>\n",
       "    <tr>\n",
       "      <th>RadioactiveImagine Dragons</th>\n",
       "      <td>85</td>\n",
       "    </tr>\n",
       "    <tr>\n",
       "      <th>I'm YoursJason Mraz</th>\n",
       "      <td>76</td>\n",
       "    </tr>\n",
       "    <tr>\n",
       "      <th>How Do I LiveLeAnn Rimes</th>\n",
       "      <td>69</td>\n",
       "    </tr>\n",
       "    <tr>\n",
       "      <th>Counting StarsOneRepublic</th>\n",
       "      <td>68</td>\n",
       "    </tr>\n",
       "    <tr>\n",
       "      <th>Party Rock AnthemLMFAO Featuring Lauren Bennett &amp; GoonRock</th>\n",
       "      <td>67</td>\n",
       "    </tr>\n",
       "  </tbody>\n",
       "</table>\n",
       "</div>"
      ],
      "text/plain": [
       "                                                     0\n",
       "RadioactiveImagine Dragons                          85\n",
       "I'm YoursJason Mraz                                 76\n",
       "How Do I LiveLeAnn Rimes                            69\n",
       "Counting StarsOneRepublic                           68\n",
       "Party Rock AnthemLMFAO Featuring Lauren Bennett...  67"
      ]
     },
     "execution_count": 9,
     "metadata": {},
     "output_type": "execute_result"
    }
   ],
   "source": [
    "print('These are the top 5 longest consecutive runs.')\n",
    "runs[0:5]"
   ]
  },
  {
   "cell_type": "code",
   "execution_count": 10,
   "metadata": {},
   "outputs": [
    {
     "name": "stdout",
     "output_type": "stream",
     "text": [
      "These are the top 5 shortest consecutive runs.\n"
     ]
    },
    {
     "data": {
      "text/html": [
       "<div>\n",
       "<style scoped>\n",
       "    .dataframe tbody tr th:only-of-type {\n",
       "        vertical-align: middle;\n",
       "    }\n",
       "\n",
       "    .dataframe tbody tr th {\n",
       "        vertical-align: top;\n",
       "    }\n",
       "\n",
       "    .dataframe thead th {\n",
       "        text-align: right;\n",
       "    }\n",
       "</style>\n",
       "<table border=\"1\" class=\"dataframe\">\n",
       "  <thead>\n",
       "    <tr style=\"text-align: right;\">\n",
       "      <th></th>\n",
       "      <th>0</th>\n",
       "    </tr>\n",
       "  </thead>\n",
       "  <tbody>\n",
       "    <tr>\n",
       "      <th>Supernatural SuperseriousR.E.M.</th>\n",
       "      <td>1</td>\n",
       "    </tr>\n",
       "    <tr>\n",
       "      <th>Got A Match?Frank Gallup</th>\n",
       "      <td>1</td>\n",
       "    </tr>\n",
       "    <tr>\n",
       "      <th>Got A Match?The Daddy-O's</th>\n",
       "      <td>1</td>\n",
       "    </tr>\n",
       "    <tr>\n",
       "      <th>I Wouldn't Know (What To Do)Dinah Washington</th>\n",
       "      <td>1</td>\n",
       "    </tr>\n",
       "    <tr>\n",
       "      <th>Theme From Adventures In ParadiseJerry Byrd</th>\n",
       "      <td>1</td>\n",
       "    </tr>\n",
       "  </tbody>\n",
       "</table>\n",
       "</div>"
      ],
      "text/plain": [
       "                                              0\n",
       "Supernatural SuperseriousR.E.M.               1\n",
       "Got A Match?Frank Gallup                      1\n",
       "Got A Match?The Daddy-O's                     1\n",
       "I Wouldn't Know (What To Do)Dinah Washington  1\n",
       "Theme From Adventures In ParadiseJerry Byrd   1"
      ]
     },
     "execution_count": 10,
     "metadata": {},
     "output_type": "execute_result"
    }
   ],
   "source": [
    "print('These are the top 5 shortest consecutive runs.')\n",
    "runs[-1:-6:-1]"
   ]
  }
 ],
 "metadata": {
  "kernelspec": {
   "display_name": "Python 3",
   "language": "python",
   "name": "python3"
  },
  "language_info": {
   "codemirror_mode": {
    "name": "ipython",
    "version": 3
   },
   "file_extension": ".py",
   "mimetype": "text/x-python",
   "name": "python",
   "nbconvert_exporter": "python",
   "pygments_lexer": "ipython3",
   "version": "3.7.6"
  }
 },
 "nbformat": 4,
 "nbformat_minor": 4
}
